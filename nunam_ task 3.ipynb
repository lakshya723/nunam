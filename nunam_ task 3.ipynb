{
 "cells": [
  {
   "cell_type": "code",
   "execution_count": 3,
   "metadata": {},
   "outputs": [],
   "source": [
    "import pandas as pd \n",
    "import seaborn as sns\n",
    "sns.set(color_codes = True)\n"
   ]
  },
  {
   "cell_type": "code",
   "execution_count": 5,
   "metadata": {},
   "outputs": [
    {
     "data": {
      "text/html": [
       "<div>\n",
       "<style scoped>\n",
       "    .dataframe tbody tr th:only-of-type {\n",
       "        vertical-align: middle;\n",
       "    }\n",
       "\n",
       "    .dataframe tbody tr th {\n",
       "        vertical-align: top;\n",
       "    }\n",
       "\n",
       "    .dataframe thead th {\n",
       "        text-align: right;\n",
       "    }\n",
       "</style>\n",
       "<table border=\"1\" class=\"dataframe\">\n",
       "  <thead>\n",
       "    <tr style=\"text-align: right;\">\n",
       "      <th></th>\n",
       "      <th>Record ID</th>\n",
       "      <th>Step Name</th>\n",
       "      <th>Relative Time(h:min:s.ms)</th>\n",
       "      <th>Realtime</th>\n",
       "      <th>Auxiliary channel TU1 U(V)</th>\n",
       "      <th>Gap of Voltage</th>\n",
       "    </tr>\n",
       "  </thead>\n",
       "  <tbody>\n",
       "    <tr>\n",
       "      <th>0</th>\n",
       "      <td>1</td>\n",
       "      <td>Rest</td>\n",
       "      <td>0:00:00.000</td>\n",
       "      <td>10/10/2020 20:03:39</td>\n",
       "      <td>-0.0013</td>\n",
       "      <td>0.0</td>\n",
       "    </tr>\n",
       "    <tr>\n",
       "      <th>1</th>\n",
       "      <td>2</td>\n",
       "      <td>Rest</td>\n",
       "      <td>0:00:01.000</td>\n",
       "      <td>10/10/2020 20:03:40</td>\n",
       "      <td>-0.0013</td>\n",
       "      <td>0.0</td>\n",
       "    </tr>\n",
       "    <tr>\n",
       "      <th>2</th>\n",
       "      <td>3</td>\n",
       "      <td>Rest</td>\n",
       "      <td>0:00:02.000</td>\n",
       "      <td>10/10/2020 20:03:41</td>\n",
       "      <td>-0.0013</td>\n",
       "      <td>0.0</td>\n",
       "    </tr>\n",
       "    <tr>\n",
       "      <th>3</th>\n",
       "      <td>4</td>\n",
       "      <td>Rest</td>\n",
       "      <td>0:00:03.000</td>\n",
       "      <td>10/10/2020 20:03:42</td>\n",
       "      <td>-0.0013</td>\n",
       "      <td>0.0</td>\n",
       "    </tr>\n",
       "    <tr>\n",
       "      <th>4</th>\n",
       "      <td>5</td>\n",
       "      <td>Rest</td>\n",
       "      <td>0:00:04.000</td>\n",
       "      <td>10/10/2020 20:03:43</td>\n",
       "      <td>-0.0012</td>\n",
       "      <td>0.0</td>\n",
       "    </tr>\n",
       "    <tr>\n",
       "      <th>...</th>\n",
       "      <td>...</td>\n",
       "      <td>...</td>\n",
       "      <td>...</td>\n",
       "      <td>...</td>\n",
       "      <td>...</td>\n",
       "      <td>...</td>\n",
       "    </tr>\n",
       "    <tr>\n",
       "      <th>416676</th>\n",
       "      <td>458630</td>\n",
       "      <td>Rest</td>\n",
       "      <td>0:09:56.000</td>\n",
       "      <td>10/16/2020 03:25:35</td>\n",
       "      <td>-0.0012</td>\n",
       "      <td>0.0</td>\n",
       "    </tr>\n",
       "    <tr>\n",
       "      <th>416677</th>\n",
       "      <td>458631</td>\n",
       "      <td>Rest</td>\n",
       "      <td>0:09:57.000</td>\n",
       "      <td>10/16/2020 03:25:36</td>\n",
       "      <td>-0.0012</td>\n",
       "      <td>0.0</td>\n",
       "    </tr>\n",
       "    <tr>\n",
       "      <th>416678</th>\n",
       "      <td>458632</td>\n",
       "      <td>Rest</td>\n",
       "      <td>0:09:58.000</td>\n",
       "      <td>10/16/2020 03:25:37</td>\n",
       "      <td>-0.0012</td>\n",
       "      <td>0.0</td>\n",
       "    </tr>\n",
       "    <tr>\n",
       "      <th>416679</th>\n",
       "      <td>458633</td>\n",
       "      <td>Rest</td>\n",
       "      <td>0:09:59.000</td>\n",
       "      <td>10/16/2020 03:25:38</td>\n",
       "      <td>-0.0012</td>\n",
       "      <td>0.0</td>\n",
       "    </tr>\n",
       "    <tr>\n",
       "      <th>416680</th>\n",
       "      <td>458634</td>\n",
       "      <td>Rest</td>\n",
       "      <td>0:10:00.000</td>\n",
       "      <td>10/16/2020 03:25:39</td>\n",
       "      <td>-0.0012</td>\n",
       "      <td>0.0</td>\n",
       "    </tr>\n",
       "  </tbody>\n",
       "</table>\n",
       "<p>416681 rows × 6 columns</p>\n",
       "</div>"
      ],
      "text/plain": [
       "        Record ID Step Name Relative Time(h:min:s.ms)             Realtime  \\\n",
       "0               1      Rest               0:00:00.000  10/10/2020 20:03:39   \n",
       "1               2      Rest               0:00:01.000  10/10/2020 20:03:40   \n",
       "2               3      Rest               0:00:02.000  10/10/2020 20:03:41   \n",
       "3               4      Rest               0:00:03.000  10/10/2020 20:03:42   \n",
       "4               5      Rest               0:00:04.000  10/10/2020 20:03:43   \n",
       "...           ...       ...                       ...                  ...   \n",
       "416676     458630      Rest               0:09:56.000  10/16/2020 03:25:35   \n",
       "416677     458631      Rest               0:09:57.000  10/16/2020 03:25:36   \n",
       "416678     458632      Rest               0:09:58.000  10/16/2020 03:25:37   \n",
       "416679     458633      Rest               0:09:59.000  10/16/2020 03:25:38   \n",
       "416680     458634      Rest               0:10:00.000  10/16/2020 03:25:39   \n",
       "\n",
       "        Auxiliary channel TU1 U(V)  Gap of Voltage  \n",
       "0                          -0.0013             0.0  \n",
       "1                          -0.0013             0.0  \n",
       "2                          -0.0013             0.0  \n",
       "3                          -0.0013             0.0  \n",
       "4                          -0.0012             0.0  \n",
       "...                            ...             ...  \n",
       "416676                     -0.0012             0.0  \n",
       "416677                     -0.0012             0.0  \n",
       "416678                     -0.0012             0.0  \n",
       "416679                     -0.0012             0.0  \n",
       "416680                     -0.0012             0.0  \n",
       "\n",
       "[416681 rows x 6 columns]"
      ]
     },
     "execution_count": 5,
     "metadata": {},
     "output_type": "execute_result"
    }
   ],
   "source": [
    "df = pd.read_csv(\"detailVol.csv\")\n",
    "df"
   ]
  },
  {
   "cell_type": "code",
   "execution_count": 6,
   "metadata": {},
   "outputs": [
    {
     "name": "stdout",
     "output_type": "stream",
     "text": [
      "<class 'pandas.core.frame.DataFrame'>\n",
      "RangeIndex: 416681 entries, 0 to 416680\n",
      "Data columns (total 6 columns):\n",
      " #   Column                      Non-Null Count   Dtype  \n",
      "---  ------                      --------------   -----  \n",
      " 0   Record ID                   416681 non-null  int64  \n",
      " 1   Step Name                   416681 non-null  object \n",
      " 2   Relative Time(h:min:s.ms)   416681 non-null  object \n",
      " 3   Realtime                    416681 non-null  object \n",
      " 4   Auxiliary channel TU1 U(V)  416681 non-null  float64\n",
      " 5   Gap of Voltage              416681 non-null  float64\n",
      "dtypes: float64(2), int64(1), object(3)\n",
      "memory usage: 19.1+ MB\n"
     ]
    }
   ],
   "source": [
    "df.info()"
   ]
  },
  {
   "cell_type": "code",
   "execution_count": 12,
   "metadata": {},
   "outputs": [
    {
     "data": {
      "text/plain": [
       "<matplotlib.axes._subplots.AxesSubplot at 0x22444f336d0>"
      ]
     },
     "execution_count": 12,
     "metadata": {},
     "output_type": "execute_result"
    },
    {
     "data": {
      "image/png": "[encoded data removed]",
      "text/plain": [
       "<Figure size 432x288 with 1 Axes>"
      ]
     },
     "metadata": {},
     "output_type": "display_data"
    }
   ],
   "source": [
    "sns.distplot(df['Auxiliary channel TU1 U(V)'])"
   ]
  },
  {
   "cell_type": "code",
   "execution_count": 13,
   "metadata": {},
   "outputs": [
    {
     "data": {
      "text/plain": [
       "<matplotlib.axes._subplots.AxesSubplot at 0x22444f332b0>"
      ]
     },
     "execution_count": 13,
     "metadata": {},
     "output_type": "execute_result"
    },
    {
     "data": {
      "image/png": "[encoded data removed]",
      "text/plain": [
       "<Figure size 432x288 with 1 Axes>"
      ]
     },
     "metadata": {},
     "output_type": "display_data"
    }
   ],
   "source": [
    "sns.countplot(df['Auxiliary channel TU1 U(V)'])"
   ]
  },
  {
   "cell_type": "code",
   "execution_count": null,
   "metadata": {},
   "outputs": [],
   "source": []
  }
 ],
 "metadata": {
  "kernelspec": {
   "display_name": "Python 3",
   "language": "python",
   "name": "python3"
  },
  "language_info": {
   "codemirror_mode": {
    "name": "ipython",
    "version": 3
   },
   "file_extension": ".py",
   "mimetype": "text/x-python",
   "name": "python",
   "nbconvert_exporter": "python",
   "pygments_lexer": "ipython3",
   "version": "3.8.3"
  }
 },
 "nbformat": 4,
 "nbformat_minor": 4
}
